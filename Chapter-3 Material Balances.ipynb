{
 "cells": [
  {
   "cell_type": "markdown",
   "metadata": {
    "slideshow": {
     "slide_type": "slide"
    }
   },
   "source": [
    "# <center> Chapter 3: Material Balances"
   ]
  },
  {
   "cell_type": "markdown",
   "metadata": {
    "slideshow": {
     "slide_type": "-"
    }
   },
   "source": [
    "## 3.0 Chapter objectives"
   ]
  },
  {
   "cell_type": "markdown",
   "metadata": {
    "slideshow": {
     "slide_type": "-"
    }
   },
   "source": [
    "1. Develop a conceptual understanding of material balances.\n",
    "2. Understand the features of open, closed, steady-state, and unsteady-state systems.\n",
    "3. Express in words how to form the material balances for processes involving single or\n",
    "multiple components.\n",
    "4. Familiarize yourself with strategies that assist you in solving material balance problems."
   ]
  },
  {
   "cell_type": "markdown",
   "metadata": {
    "slideshow": {
     "slide_type": "slide"
    }
   },
   "source": [
    "## 3.1 Introduction to Material Balances"
   ]
  },
  {
   "cell_type": "markdown",
   "metadata": {
    "slideshow": {
     "slide_type": "-"
    }
   },
   "source": [
    "**Material balances** are the application of the conservation law for mass: “Matter is neither created nor destroyed.”"
   ]
  },
  {
   "cell_type": "markdown",
   "metadata": {
    "slideshow": {
     "slide_type": "-"
    }
   },
   "source": [
    "### 3.1.1 The concept of Material Balance"
   ]
  },
  {
   "cell_type": "markdown",
   "metadata": {
    "slideshow": {
     "slide_type": "-"
    }
   },
   "source": [
    "The general material balance written as:\n",
    "\n",
    "\n",
    "\n",
    "![](img\\ch3\\3.1.3.3.PNG)\n",
    "\n",
    "- Generation and consumption terms are related to chemical reaction taken place in the system. If there is no chemical reaction in the system then these two terms are equal to zero.\n",
    "- The above equation can be applied to conservation of total mass, mass of a component, moles of a\n",
    "component (but usually not total moles—why?).\n",
    "- The above equation can be applied to conservation of mass of an atomic species, and moles of an atomic species, but not to volume. Why? \n",
    "- Mass is conserved while volume is generally not because different materials have different densities."
   ]
  },
  {
   "cell_type": "markdown",
   "metadata": {
    "slideshow": {
     "slide_type": "slide"
    }
   },
   "source": [
    "### 3.1.2 Material Balances for a Single Component"
   ]
  },
  {
   "cell_type": "markdown",
   "metadata": {
    "slideshow": {
     "slide_type": "-"
    }
   },
   "source": [
    "material balance equation for a single component with no reaction:\n",
    "\n",
    "\n",
    "![](img\\ch3\\3.1.2.1.PNG)"
   ]
  },
  {
   "cell_type": "markdown",
   "metadata": {},
   "source": [
    "**Example 3.2.1**: Water balances on a lake can be used to evaluate the effect of groundwater infiltration, evaporation, or precipitation on the lake. Prepare a water balance for the lake?"
   ]
  },
  {
   "cell_type": "markdown",
   "metadata": {},
   "source": [
    "![](img\\ch3\\3.1.2.2.PNG)"
   ]
  },
  {
   "cell_type": "markdown",
   "metadata": {},
   "source": [
    "$$S_R(t_2) – S_R(t_1) = R_1 – R_2 + P – E – W$$"
   ]
  },
  {
   "cell_type": "markdown",
   "metadata": {},
   "source": [
    "**Example 3.1.2.2**: Consider the storage tank shown in the Figure Below. Over a 3 h period, the accumulation of water in the tank was determined to be 6000 kg. Assuming that the feed and removal rates remain constant during the 3 h period of interest, determine the flow rate of the second feed stream, $\\dot{F_2}$ ,$\\dot{F_1}$ is 10,000 kg/h and the water removal rate,$\\dot{P}$ , is 12,000 kg/h.\n",
    "\n",
    "![](img\\ch3\\3.1.2.3.PNG)"
   ]
  },
  {
   "cell_type": "markdown",
   "metadata": {},
   "source": [
    "**Solution**\n",
    "\n",
    "$$S_T(t_2) – S_T(t_1) = \\dot{F_1}Δt + \\dot{F_2}Δt – Δt\\dot{P}$$\n",
    "\n",
    "$$6000 kg = (10,000 kg/h)(3 h) + (3 h)\\dot{F_2} – (12,000 kg/h)(3 h)$$\n",
    "\n",
    "$$\\dot{}=4000 \\text{kg/h}$$"
   ]
  },
  {
   "cell_type": "markdown",
   "metadata": {},
   "source": [
    "### 3.1.3 Characteristics of Systems"
   ]
  },
  {
   "cell_type": "markdown",
   "metadata": {},
   "source": [
    "**System** is any arbitrary portion of or a whole process you want to consider for analysis."
   ]
  },
  {
   "cell_type": "markdown",
   "metadata": {},
   "source": [
    "**System boundary** is a line that encloses the portion of the process that you want to analyze. The\n",
    "boundary could coincide with the outside of a piece of equipment or some section inside this\n",
    "equipment"
   ]
  },
  {
   "cell_type": "markdown",
   "metadata": {},
   "source": [
    "**Closed system**:  no material crosses the system boundary. Changes can take place inside the closed system,\n",
    "but no mass exchange occurs with the surroundings."
   ]
  },
  {
   "cell_type": "markdown",
   "metadata": {},
   "source": [
    "**Open system**:  material crosses the system boundary. Changes can take place inside open system and mass exchange can take place with the surroundings as well."
   ]
  },
  {
   "cell_type": "markdown",
   "metadata": {},
   "source": [
    "![](img\\ch3\\3.1.3.1.PNG)"
   ]
  },
  {
   "cell_type": "markdown",
   "metadata": {},
   "source": [
    "**Steady-State System**: a system that its variables such as the amount of material is invariant (does not change) with time. Most industrial processes under normal conditions are not really steady-state because the values of the variables involved when measured fluctuate continuously due to low-level disturbances to the process and the action of the control systems to counteract these disturbances. "
   ]
  },
  {
   "cell_type": "markdown",
   "metadata": {},
   "source": [
    "**Pseudo steady-state or quasi steady-state**:it is not truly steady-state but for convenience is treated as steady-state.\n",
    "- <u>Pseudo</u>: comes from the Greek for false/lie and refers particularly to something not genuine.\n",
    "- <u>Quasi</u>: comes from the Latin for almost and refers to something that is almost something else."
   ]
  },
  {
   "cell_type": "markdown",
   "metadata": {},
   "source": [
    "**Unsteady-State System**:a system that its variables such as the amount of material can vary (change) with time."
   ]
  },
  {
   "cell_type": "markdown",
   "metadata": {},
   "source": [
    "![](img\\ch3\\3.1.3.2.PNG)"
   ]
  },
  {
   "cell_type": "markdown",
   "metadata": {},
   "source": [
    "**Continuous process** is one in which material enters and leaves the system without interruption."
   ]
  },
  {
   "cell_type": "markdown",
   "metadata": {},
   "source": [
    "**Batch process**: is a closed process, treats a fixed amount of material each time it operates. The empty system is charged with the batch of material, and at the end of the processing all of the resulting material is removed."
   ]
  },
  {
   "cell_type": "markdown",
   "metadata": {},
   "source": [
    "**Semi-batch process**:is an open process, material enters the process during its operation but none leaves."
   ]
  },
  {
   "cell_type": "markdown",
   "metadata": {},
   "source": [
    "### 3.1.4 Material Balances for a System with More than One Component"
   ]
  },
  {
   "cell_type": "markdown",
   "metadata": {},
   "source": [
    "- For a signle componet system you can write one material balance equation.\n",
    "- For systems with more than one component, you can write more than one material balance equation.\n",
    "- Normally for multicomponent systems, you can write a separate material balance equation for each component present in the system plus one additional material balance equation based on the total mass of the system, but one of the set will be dependent (redundant)\n",
    "- Total material balance for the process Will it be a steady-state balance?\n",
    "- Component material balance for the process Will it be a steady-state balance?\n",
    "![](img\\ch3\\3.1.1.PNG)\n",
    "\n",
    "- If the tank is well mixed, the concentration of a component in the output stream will be the same as the concentration of the component inside the tank during mixing, an assumption frequently made that is relatively accurate if adequate mixing is used"
   ]
  },
  {
   "cell_type": "markdown",
   "metadata": {},
   "source": [
    "![](img\\ch3\\3.1.2.PNG)"
   ]
  },
  {
   "cell_type": "markdown",
   "metadata": {},
   "source": [
    "**Example 3.1.3** In the development of a procedure to recover DNA from cells and tissue, 20 μg of pure DNA\n",
    "sequences in 500 μg of water was fragmented by sound to 500 bp and smaller sizes. [A bp (base\n",
    "pair) is 0.34 nm (along the helical axis); 10.4 bp is equal to one helical turn in the DNA molecule.]. After cross-linking proteins to the DNA followed by several\n",
    "additional processing and separation steps, the remaining DNA was precipitated from solution,\n",
    "cleaned, and dried, yielding 12.0 μg of DNA. What fraction of the DNA was lost in the processing\n",
    "steps?"
   ]
  },
  {
   "cell_type": "markdown",
   "metadata": {},
   "source": [
    "**Solution**\n",
    "\n",
    "Do you have to worry about the water?"
   ]
  },
  {
   "cell_type": "markdown",
   "metadata": {},
   "source": [
    "![](img\\ch3\\ex-3.1.3.PNG)"
   ]
  },
  {
   "cell_type": "code",
   "execution_count": 6,
   "metadata": {},
   "outputs": [
    {
     "name": "stdout",
     "output_type": "stream",
     "text": [
      "DNA lost fraction =  0.4\n"
     ]
    }
   ],
   "source": [
    "DNA_in=20e-6\n",
    "DNA_recovered=12e-6\n",
    "DNA_lost=DNA_in-DNA_recovered\n",
    "print(\"DNA lost fraction = \",DNA_lost/DNA_in)"
   ]
  },
  {
   "cell_type": "markdown",
   "metadata": {},
   "source": [
    "**Example 3.1.4** Centrifuges are used to separate particles in the range of 0.1 to 100 μg in diameter from a liquid\n",
    "using centrifugal force. Yeast cells are recovered from a broth (a liquid mixture containing cells)\n",
    "using a tubular centrifuge (a cylindrical system rotating about a cylindrical axis). Determine the\n",
    "amount of the cell-free discharge per hour if 1000 L/hr are fed to the centrifuge. The feed contains\n",
    "500 mg cells/L, and the product stream contains 50 wt % cells. Assume that the feed has a density\n",
    "of 1 g/cm3 and that there are no cells in the broth discharge from the centrifuge."
   ]
  },
  {
   "cell_type": "markdown",
   "metadata": {},
   "source": [
    "**Solution**\n",
    "* Contineus steady-state system\n",
    "* Basis 1 hr\n",
    "![](img\\ch3\\ex-3.1.4.PNG)"
   ]
  },
  {
   "cell_type": "markdown",
   "metadata": {},
   "source": [
    "<u>overall material balance:</u>"
   ]
  },
  {
   "cell_type": "markdown",
   "metadata": {},
   "source": [
    "$$\\frac{\\text{1000 L of Feed}}{}|\\frac{1 g}{cm^3}|\\frac{1000 cm^3}{L}=10^6\\text{ g of feed} = P + D $$"
   ]
  },
  {
   "cell_type": "markdown",
   "metadata": {},
   "source": [
    "<u>Yeast cells balance:</u>"
   ]
  },
  {
   "cell_type": "markdown",
   "metadata": {},
   "source": [
    "$$\\frac{\\text{500 mg cells}}{1 L}|\\frac{\\text{1000 L}}{}|\\frac{1 g}{1000 mg}=\\text{500 g of cells}=0.5P$$"
   ]
  },
  {
   "cell_type": "markdown",
   "metadata": {},
   "source": [
    "$$P=\\text{1000 g}$$"
   ]
  },
  {
   "cell_type": "markdown",
   "metadata": {},
   "source": [
    "$$D=10^6-1000\\text{ g}$$"
   ]
  },
  {
   "cell_type": "markdown",
   "metadata": {},
   "source": [
    "**Example 3.1.5** Will you save money if instead of buying premium 89-octane gasoline at \\\\$2.987 per gallon that has\n",
    "the octane you want, you blend sufficient 93-octane supreme at \\\\$3.137 per gallon with 87-octane\n",
    "regular gasoline at \\$2.837 per gallon?"
   ]
  },
  {
   "cell_type": "markdown",
   "metadata": {},
   "source": [
    "**Solution**:\n",
    "- making an actual mass balance for each component of gasoline mixture would involve quite extensive calculations\n",
    "- Assuming octane as a component of gasoline, a component that is assumed to be conserved.\n",
    "- What basis should you choose?\n",
    "- No Mass or density given for the gasoline\n",
    "![](img\\ch3\\ex-3.1.5.PNG)"
   ]
  },
  {
   "cell_type": "markdown",
   "metadata": {},
   "source": [
    "$${\\frac{\\text{89 octane}}{1 gal}|\\frac{1 gal}{}=\\frac{\\text{(x gal)(87 octane)}}{1 gal}+\\frac{\\text{(y gal)(93 octane)}}{1 gal}}$$"
   ]
  },
  {
   "cell_type": "markdown",
   "metadata": {},
   "source": [
    "$$x + y = 1 $$"
   ]
  },
  {
   "cell_type": "markdown",
   "metadata": {},
   "source": [
    "- Two equations and two unknowns"
   ]
  },
  {
   "cell_type": "code",
   "execution_count": 14,
   "metadata": {},
   "outputs": [
    {
     "name": "stdout",
     "output_type": "stream",
     "text": [
      "[[0.66666667]\n",
      " [0.33333333]]\n"
     ]
    }
   ],
   "source": [
    "# 87x + 93y = 89\n",
    "#   x +   y = 1\n",
    "#  Ax = B\n",
    "# x = inv(A).B\n",
    "import numpy as np\n",
    "A=np.array([[87,93],[1,1]])\n",
    "B=np.array([[89],[1]])\n",
    "answer=np.linalg.inv(A).dot(B)\n",
    "print(answer)"
   ]
  },
  {
   "cell_type": "markdown",
   "metadata": {},
   "source": [
    "$$x=\\frac{2}{3}\\text{ gal,    y}=\\frac{1}{3} \\text{ gal}$$"
   ]
  },
  {
   "cell_type": "code",
   "execution_count": 4,
   "metadata": {},
   "outputs": [
    {
     "name": "stdout",
     "output_type": "stream",
     "text": [
      "Total paid price = $ 2.937\n"
     ]
    }
   ],
   "source": [
    "mixing_price=(2/3)*(2.837) + (1/3)*(3.137)\n",
    "print(\"Total paid price = $\",mixing_price)"
   ]
  },
  {
   "cell_type": "code",
   "execution_count": 7,
   "metadata": {},
   "outputs": [
    {
     "name": "stdout",
     "output_type": "stream",
     "text": [
      "total saving = $ 0.050000000000000266\n"
     ]
    }
   ],
   "source": [
    "original_price=2.987\n",
    "print(\"total saving = $\",original_price-mixing_price)"
   ]
  },
  {
   "cell_type": "markdown",
   "metadata": {},
   "source": [
    "## 3.2 A General Strategy for Solving Material Balance Problems"
   ]
  },
  {
   "cell_type": "markdown",
   "metadata": {},
   "source": [
    "1. Read and understand the problem statement."
   ]
  },
  {
   "cell_type": "markdown",
   "metadata": {},
   "source": [
    "2. Draw a sketch of the process and specify the system boundary.\n",
    "    - You do not have to be an artist to make a sketch.\n",
    "    - A simple box or circle drawn by hand todenote the system boundary with some arrows to designate flows of material will be fine"
   ]
  },
  {
   "cell_type": "markdown",
   "metadata": {},
   "source": [
    "3. Place labels (symbols, numbers, and units) on the diagram for all of the known flows,\n",
    "materials, and compositions.\n",
    "    - To avoid having to look back at the problem statement repeatedly.\n",
    "    - be able to clarify what data are missing.\n",
    "    - For the unknown flows, materials, and compositions, insert symbols  such as $\\dot{F_1}$ for an unknown flow or $\\omega_1$ for a mass fraction and add units as well.\n",
    "    - Add any other useful relations or information."
   ]
  },
  {
   "cell_type": "markdown",
   "metadata": {},
   "source": [
    "**Example 3.2.1**: A continuous mixer mixes NaOH with H2O to produce an aqueous solution of NaOH. The problem\n",
    "is to determine the composition and flow rate of the product if the flow rate of NaOH is 1000 kg/hr\n",
    "and the ratio of the flow rate of the H2O to the product solution is 0.9. Draw a sketch of the process\n",
    "and put the data and unknown variables on the sketch with appropriate labels. We will use this\n",
    "example in subsequent illustrations of the proposed strategy."
   ]
  },
  {
   "cell_type": "markdown",
   "metadata": {},
   "source": [
    "**Solution**:"
   ]
  },
  {
   "cell_type": "markdown",
   "metadata": {},
   "source": [
    "![](img\\ch3\\3.2.1.PNG)"
   ]
  },
  {
   "cell_type": "markdown",
   "metadata": {},
   "source": [
    "4. Obtain any data you know are needed to solve the problem but are missing."
   ]
  },
  {
   "cell_type": "markdown",
   "metadata": {},
   "source": [
    "5. Choose a basis\n",
    "    - Be sure to write the word Basis on your calculation page, and enter the value and associated units so that you, and anyone who reads the page, can later on (weeks or months later on) know what you did."
   ]
  },
  {
   "cell_type": "markdown",
   "metadata": {},
   "source": [
    "6. Determine the number of variables whose values are unknown (the unknowns)."
   ]
  },
  {
   "cell_type": "markdown",
   "metadata": {},
   "source": [
    "7. Determine the number of independent equations and carry out a degree-of-freedom analysis"
   ]
  },
  {
   "cell_type": "markdown",
   "metadata": {},
   "source": [
    "8. Write down the equations to be solved in terms of the knowns and unknowns."
   ]
  },
  {
   "cell_type": "markdown",
   "metadata": {},
   "source": [
    "9. Solve the equations and calculate the quantities asked for in the problem"
   ]
  },
  {
   "cell_type": "markdown",
   "metadata": {},
   "source": [
    "10. Check your answer(s).\n",
    "    - Mass fractions should fall between zero and one.\n",
    "    - Flow rates normally should be nonnegative."
   ]
  }
 ],
 "metadata": {
  "kernelspec": {
   "display_name": "Python 3",
   "language": "python",
   "name": "python3"
  },
  "language_info": {
   "codemirror_mode": {
    "name": "ipython",
    "version": 3
   },
   "file_extension": ".py",
   "mimetype": "text/x-python",
   "name": "python",
   "nbconvert_exporter": "python",
   "pygments_lexer": "ipython3",
   "version": "3.8.3"
  }
 },
 "nbformat": 4,
 "nbformat_minor": 4
}
