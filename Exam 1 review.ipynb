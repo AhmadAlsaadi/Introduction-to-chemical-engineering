{
 "cells": [
  {
   "cell_type": "markdown",
   "metadata": {},
   "source": [
    "**Problem 1**\n",
    "\n",
    "A manometer is used to measure the pressure in a tank. The fluid used has a specific gravity\n",
    "of 0.85, and the manometer column height is 21.65 inch. If the absolute pressure within the\n",
    "tank is 100.6 kPa, determine the local atmospheric pressure."
   ]
  },
  {
   "cell_type": "markdown",
   "metadata": {},
   "source": [
    "**Solution**\n",
    "\n",
    "$$\\text{absolute pressure}=\\text{gauge pressure}+\\text{local pressure}$$"
   ]
  },
  {
   "cell_type": "markdown",
   "metadata": {},
   "source": [
    "$\\text{absolute pressure} = 100.6 kPa$\n",
    "$$\\text{gauge pressure}=\\rho gh$$"
   ]
  },
  {
   "cell_type": "markdown",
   "metadata": {},
   "source": [
    "$g = ( 9.8 \\frac{m}{s^2} )$\n",
    "\n",
    "$h=(21.65 in) ( \\frac{ 0.0254 m}{1 in})=0.5499 m$"
   ]
  },
  {
   "cell_type": "markdown",
   "metadata": {},
   "source": [
    "$\\rho = 0.85 \\frac{\\frac{kg}{m^3}\\text{ of fluid}}{1\\frac{kg}{m^3}\\text{ of water}}(1000 \\frac{kg}{m^3})=850 \\frac{kg}{m^3}$"
   ]
  },
  {
   "cell_type": "markdown",
   "metadata": {},
   "source": [
    "$$\\text{gauge pressure} = 850 \\frac{kg}{m^3}x9.8\\frac{m}{s^2}x0.5499 m=4.6 kPa$$"
   ]
  },
  {
   "cell_type": "markdown",
   "metadata": {},
   "source": [
    "$$\\text{local pressure} = 100.6kPa-4.6kPa=96 kPa$$"
   ]
  },
  {
   "cell_type": "markdown",
   "metadata": {},
   "source": [
    "**Problem 2**\n",
    "Examine the processes in the figure. Each box represents a system. For each, state whether\n",
    "\n",
    "a. The process is \n",
    "    1. Steady state \n",
    "    2. Unsteady state \n",
    "b. The system is \n",
    "    1. Closed \n",
    "    2. Open.\n",
    "The wavy line represents the initial fluid level when the flows begin. In case (c), the tank\n",
    "stays full."
   ]
  },
  {
   "cell_type": "markdown",
   "metadata": {},
   "source": [
    "![](img\\exam\\1.PNG)"
   ]
  },
  {
   "cell_type": "markdown",
   "metadata": {},
   "source": [
    "**Problem 3**\n",
    "The specific gravity of gasoline is approximately 0.70\n",
    "\n",
    "    a. Determine the mass kg of 50 liters.\n",
    "    b. The mass flow rate of gasoline exiting a refinery tank is 1150 kg/min. Estimate the average mass flow rate in (lbm/s)"
   ]
  },
  {
   "cell_type": "markdown",
   "metadata": {},
   "source": [
    "**Solution**\n",
    "\n",
    "a."
   ]
  },
  {
   "cell_type": "markdown",
   "metadata": {},
   "source": [
    "$$\\text{mass of gasline for 50 Liters} = (50 L ) (0.7 \\frac{kg}{L})=35 kg$$"
   ]
  },
  {
   "cell_type": "markdown",
   "metadata": {},
   "source": [
    "b.\n",
    "\n",
    "$$\\text{mass flow rate} = (1150\\frac{kg}{min})(\\frac{2.2lbm}{kg})(\\frac{1 min}{60 s})=42 \\frac{lbm}{s}$$"
   ]
  },
  {
   "cell_type": "markdown",
   "metadata": {},
   "source": [
    "**Problem 4**\n",
    "At 25 C, an aqueous solution containing 25 wt% $H_2SO_4$ has specific gravity of 1.256. A\n",
    "quantity of the solution is needed that contains 195.5 kg $H_2SO_4$. Calculate the required\n",
    "volume (L) of the solution using the given specific gravity."
   ]
  },
  {
   "cell_type": "markdown",
   "metadata": {},
   "source": [
    "**Solution**\n",
    "\n",
    "$$(x L)(1.256)(1\\frac{kg}{L})(0.25)=195.5 kg$$"
   ]
  },
  {
   "cell_type": "markdown",
   "metadata": {},
   "source": [
    "$$\\text{Volume required}=\\frac{(195.5 kg)}{(0.25)(1.256 \\frac{kg}{L})}=622.6 L$$"
   ]
  },
  {
   "cell_type": "markdown",
   "metadata": {},
   "source": [
    "**Problem 5** A mixer mixes a weak NaOH solution 5% with pure NaOH to give a solution with 20% NaOH\n",
    "and processes 70 $ft^3$ of feed solution per day.\n",
    "    \n",
    "    a. Find the mass flow of the feed in kg/h if the density is 859 kg/m3?\n",
    "    b. Draw the process and identify what’s given on the drawing.\n",
    "    c. How many material balances are available, write them down?\n",
    "    d. How much product is made?\n",
    "    e. How much water is needed?"
   ]
  },
  {
   "cell_type": "markdown",
   "metadata": {},
   "source": [
    "**Solution**\n",
    "\n",
    "a. \n",
    "\n",
    "$$\\text{feed mass flow} = (70 \\frac{ft^3}{day})(\\frac{0.0283 m^3}{1ft^3})(859\\frac{kg}{m^3})(\\frac{day}{24h})=71\\frac{kg}{h}$$"
   ]
  },
  {
   "cell_type": "markdown",
   "metadata": {},
   "source": [
    "b.\n",
    "\n",
    "![](img/exam/2.svg)"
   ]
  },
  {
   "cell_type": "markdown",
   "metadata": {},
   "source": [
    "c.\n",
    "\n",
    "there are three material balances: basis 1 hour\n",
    "\n",
    "1. overall material balance:\n",
    "$$(71 \\text{ kg NaOH solution})+(x \\text{ kg of pure NaOH})= (y \\text{ kg of NaOH product})$$\n",
    "\n",
    "2. NaOH mass balance:\n",
    "$$ (71 \\text{ kg NaOH solution})(0.05)+(x \\text{ kg of pure NaOH})= (y \\text{ kg of NaOH product solution})(0.2)$$\n",
    "\n",
    "3. Water mass balance:\n",
    "$$ (71 \\text{ kg NaOH solution})(0.95)= (y \\text{ kg of NaOH product solution})(0.8)$$"
   ]
  },
  {
   "cell_type": "markdown",
   "metadata": {},
   "source": [
    "d.\n",
    "\n",
    "basis: 1 hour\n",
    "\n",
    "using Water mass balance equation:\n",
    "\n",
    "$$\\text{y kg of NaOH product solution} = \\frac{(71 kg)(0.95)}{0.8}=84 kg$$"
   ]
  },
  {
   "cell_type": "markdown",
   "metadata": {},
   "source": [
    "e.\n",
    "\n",
    "$$\\text{water required} = (84kg)(0.8)=67 kg$$"
   ]
  }
 ],
 "metadata": {
  "kernelspec": {
   "display_name": "Python 3",
   "language": "python",
   "name": "python3"
  },
  "language_info": {
   "codemirror_mode": {
    "name": "ipython",
    "version": 3
   },
   "file_extension": ".py",
   "mimetype": "text/x-python",
   "name": "python",
   "nbconvert_exporter": "python",
   "pygments_lexer": "ipython3",
   "version": "3.8.3"
  }
 },
 "nbformat": 4,
 "nbformat_minor": 4
}
