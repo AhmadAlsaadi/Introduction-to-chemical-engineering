{
 "cells": [
  {
   "cell_type": "markdown",
   "metadata": {},
   "source": [
    " # <center>Chapter 4: Material Balances without Reaction</center>"
   ]
  },
  {
   "cell_type": "markdown",
   "metadata": {},
   "source": [
    "<span style=\"color:green\">**Problem solving is what you do when you don’t know what to do; otherwise it’s not a problem.**</span>\n",
    "G. Bodner, J. Chem. Edu., 63, 873 (1986)"
   ]
  },
  {
   "cell_type": "markdown",
   "metadata": {},
   "source": [
    "**Example 4.1** Streptomycin is used as an antibiotic to fight bacterial diseases in humans as well as to control\n",
    "bacteria, fungi, and algae in crops. First an inoculate is prepared by placing spores of strains of\n",
    "Streptomyces griseus in a medium to establish a culture with a high biomass. The culture is then\n",
    "introduced into a fermentation tank which operates at 28°C and a pH of about 7.8 with the nutrients\n",
    "of glucose (the carbon source) and soybean meal (the nitrogen source). High agitation and aeration\n",
    "are needed. After fermentation, the biomass is separated from the liquid, and Streptomycin is\n",
    "recovered by adsorption on activated charcoal followed by extraction with an organic solvent in a\n",
    "continuous extraction process. If we ignore the details of the process and just consider the overall\n",
    "extraction process. Determine the mass fraction of Streptomycin in the exit organic solvent based on the data in the Figure\n",
    "below, assuming that no water exits with the solvent and no solvent exits with the aqueous solution.\n",
    "Assume that the density of the aqueous solution is 1 $\\large{\\frac{g}{cm^3}}$ and the density of the organic solvent is\n",
    "0.6 $\\large{\\frac{g}{cm^3}}$."
   ]
  },
  {
   "cell_type": "markdown",
   "metadata": {},
   "source": [
    "<img src=\"img\\ch4\\4.1.PNG\">"
   ]
  },
  {
   "cell_type": "markdown",
   "metadata": {},
   "source": [
    "**Solution**\n",
    "\n",
    "basis: 1 hr"
   ]
  },
  {
   "cell_type": "markdown",
   "metadata": {},
   "source": [
    "mass balance on Streptomycin:\n",
    "\n",
    "$$\\text{Mass of Streptomycin in A + Mass of Streptomycin in S = Mass  of Streptomycin in P + Mass of Streptomycin in B}$$"
   ]
  },
  {
   "cell_type": "markdown",
   "metadata": {},
   "source": [
    "$$200 L|\\frac{10 g}{L}=200 L|\\frac{0.2g}{L}+10L|\\frac{xg}{L}$$"
   ]
  },
  {
   "cell_type": "markdown",
   "metadata": {},
   "source": [
    "$$2000g =400g + 10xg$$"
   ]
  },
  {
   "cell_type": "markdown",
   "metadata": {},
   "source": [
    "$$\\text{concentration of Streptomycin in P =}\\frac{(2000-40)g}{10L}=196 \\frac{g}{L} $$"
   ]
  },
  {
   "cell_type": "markdown",
   "metadata": {},
   "source": [
    "$$\\text{mass fraction of Streptomycin in P}=\\frac{10L|\\frac{196 g}{L}}{10L|\\frac{0.6 g}{cm^3}|\\frac{1000cm^3}{L}+10L|\\frac{196g}{L}}=0.246$$"
   ]
  },
  {
   "cell_type": "markdown",
   "metadata": {},
   "source": [
    "**Example 4.2** Membranes represent a relatively new technology for the commercial separation of gases. One use\n",
    "that has attracted attention is the separation of nitrogen and oxygen from air. The figure below\n",
    "illustrates a nanoporous membrane which is made by coating a very thin layer of polymer on a\n",
    "porous graphite supporting layer. What is the composition of the waste stream if the waste stream amounts to 80% of the input\n",
    "stream?"
   ]
  },
  {
   "cell_type": "markdown",
   "metadata": {},
   "source": [
    "<img src=\"img\\ch4\\4.2.PNG\">"
   ]
  },
  {
   "cell_type": "markdown",
   "metadata": {},
   "source": [
    "**Solution**:\n",
    "\n",
    "Basis: 100 mole of air\n",
    "\n",
    "overall mole balance: No reaction and steady state separtion process\n",
    "\n",
    "$$\\text{Moles of air = Moles of Product + mole of Waste stream}$$\n"
   ]
  },
  {
   "cell_type": "markdown",
   "metadata": {},
   "source": [
    "$$\\text{100 moles of air = 20 moles of P + 80 mole of W}$$"
   ]
  },
  {
   "cell_type": "markdown",
   "metadata": {},
   "source": [
    "$O_2$ mole balance:\n",
    "\n",
    "$$\\text{100 mole air}|\\frac{\\text{0.21 mole} O_2}{\\text{1 mole air}}=\\text{20 mole of P}|\\frac{\\text{0.25 of} O_2}{\\text{1 mole of P}}+\\text{80 mole of W}|\\frac{\\text{x mole of} O_2}{\\text{1 mole of W}}$$"
   ]
  },
  {
   "cell_type": "markdown",
   "metadata": {},
   "source": [
    "$$\\text{mole fraction of } O_2\\text{ in W }= \\frac{\\text{21 mole of } O_2-\\text{5 mole of O_2}}{\\text{80 mole of W}}=0.2 =20\\%$$"
   ]
  },
  {
   "cell_type": "markdown",
   "metadata": {},
   "source": [
    "$$\\text{mole fraction of }N_2=1-0.2=0.8=80\\%$$"
   ]
  },
  {
   "cell_type": "markdown",
   "metadata": {},
   "source": [
    "**Example 4.3**: A new manufacturer of ethyl alcohol—ethanol, denoted as EtOH. The process is shown in the figure below. They think too much alcohol is lost in the bottoms (waste). Calculate the composition of the bottoms and the mass of the alcohol lost in the bottoms based on the data shown in Figure E4.3 that were collected in 1 hr of operation. Finally, determine the percentage of the EtOH entering the column that is lost in the waste stream."
   ]
  },
  {
   "cell_type": "markdown",
   "metadata": {},
   "source": [
    "<img src=\"img\\ch4\\4.3.PNG\">"
   ]
  },
  {
   "cell_type": "markdown",
   "metadata": {},
   "source": [
    "**Solution**:\n",
    "\n",
    "Basis: 1000 kg of feed\n",
    "\n",
    "Over all mass balance:\n",
    "\n",
    "$$F=P+B$$"
   ]
  },
  {
   "cell_type": "markdown",
   "metadata": {},
   "source": [
    "$$F=1000 kg$$\n",
    "\n",
    "$$P=(0.1)(F)=(0.1)(1000 kg)=100 kg$$\n",
    "\n",
    "$$B=F-P = 1000-100 = 900 kg$$"
   ]
  },
  {
   "cell_type": "markdown",
   "metadata": {},
   "source": [
    "EtOH mass balance:\n",
    "\n",
    "$$ (F)(0.1)=(P)(0.6)+(B)(x_{EtOH})$$"
   ]
  },
  {
   "cell_type": "markdown",
   "metadata": {},
   "source": [
    "$$ (1000 kg)(0.1)=(100 kg)(0.6)+(900 kg)(x_{EtOH})$$"
   ]
  },
  {
   "cell_type": "markdown",
   "metadata": {},
   "source": [
    "$$ x_{EtOH}= \\frac{(100-60) kg}{900kg}=0.044=4.4\\%$$"
   ]
  },
  {
   "cell_type": "markdown",
   "metadata": {},
   "source": [
    "$$x_{H_2O}=1-0.044 =0.956=95.6\\%$$"
   ]
  },
  {
   "cell_type": "markdown",
   "metadata": {},
   "source": [
    "$$\\text{percent of EtOH lost in B}= \\frac{(900kg)(0.044)}{(1000kg)(0.1)}x100\\%=40\\%$$"
   ]
  },
  {
   "cell_type": "markdown",
   "metadata": {},
   "source": [
    "**Example 4.4**: You are asked to prepare a batch of 18.63% battery acid as follows: A mixing vessel of old weak battery acid ($H_2SO_4$) solution contains 12.43% $H_2SO_4$ (the remainder is pure water). If 200 kg of 77.7% $H_2SO_4$ is added (not too fast!) to the vessel, and the final solution is to be 18.63% $H_2SO_4$, how many kilograms of battery acid have been made?"
   ]
  },
  {
   "cell_type": "markdown",
   "metadata": {},
   "source": [
    "<img src=\"img\\ch4\\4.4.PNG\">"
   ]
  },
  {
   "cell_type": "markdown",
   "metadata": {},
   "source": [
    "**Solution**:\n",
    "\n",
    "Basis: 200 kg of $H_2SO_4$\n",
    "\n",
    "Overall mass balance:\n",
    "\n",
    "$$ \\text{x kg of old acid mass}+200= \\text{y kg of total acid mass}$$\n",
    "\n",
    "$H_2SO_4$ mass balance:\n",
    "\n",
    "$$(200 kg)(0.777)+(\\text{x kg of old acid mass})(0.1243)=(\\text{y kg of total acid mass})(0.1863)$$\n",
    "\n",
    "Two equations with two unknowns:"
   ]
  },
  {
   "cell_type": "code",
   "execution_count": 4,
   "metadata": {},
   "outputs": [
    {
     "name": "stdout",
     "output_type": "stream",
     "text": [
      "[[1905.48387097]\n",
      " [2105.48387097]]\n"
     ]
    }
   ],
   "source": [
    "#        -x +       y = 200\n",
    "#  -0.1243x + 0.1863y = 155.4\n",
    "#  Ax = B\n",
    "# x = inv(A).B\n",
    "import numpy as np\n",
    "A=np.array([[-1,1],[-0.1243,0.1863]])\n",
    "B=np.array([[200],[155.4]])\n",
    "answer=np.linalg.inv(A).dot(B)\n",
    "print(answer)"
   ]
  },
  {
   "cell_type": "markdown",
   "metadata": {},
   "source": [
    "So, the total mass of $H_2SO_4$ that has been made is 2105 kg"
   ]
  },
  {
   "cell_type": "markdown",
   "metadata": {},
   "source": [
    "**Example 4.5**: A chromatographic column can be used to separate two or more compounds. the figure below portrays the main features of such a column, which can be operated in either a horizontal or a vertical position. The second figure illustrates how the bands of separation occur as the injected mixture of compounds passes through the column. Note that the columns in indicate the distribution of the sample at different times, with time increasing from the left to the right. The component that is more strongly absorbed on the packing in the column falls behind the more weakly adsorbed. Some compounds with appropriate packing in a sufficiently long column can be completely separated. A typical small-scale laboratory column might be 5 cm in diameter and 10 cm long with a filled fraction of packing of 0.62 of the column volume. For bio materials in laboratories the columns are much smaller."
   ]
  },
  {
   "cell_type": "markdown",
   "metadata": {},
   "source": [
    "<img style=\"display:inline; margin-left:150px\" src=\"img\\ch4\\4.5a.PNG\"> <img style=\"display:inline; margin-left:100px\" src=\"img\\ch4\\4.5b.PNG\">"
   ]
  },
  {
   "cell_type": "markdown",
   "metadata": {},
   "source": [
    "In the purification of a protein called bovine serum albumin (BSA) from NaCl (a process called\n",
    "“desalting”), 44.2 g of BSA and 97.7 g of NaCl in 500.0 g of H2O are injected into a packed\n",
    "initially empty column. If the exit product P is collected in one container, after a while you find that\n",
    "you have collected 386.3 g total that contain 302.7 g of $H_2O$, the remainder being BSA and NaCl.\n",
    "How much BSA and NaCl remained in the column? The ratio of the mass of BSA to the mass of NaCl in P is 0.78."
   ]
  },
  {
   "cell_type": "markdown",
   "metadata": {},
   "source": [
    "**Solution**:\n",
    "\n",
    "$$\\text{Mass of BSA and NaCl in P} = 386.3 -302.7 = 83.6 g$$\n",
    "\n",
    "Overall mass balance of BSA and NaCl:\n",
    "\n",
    "$$ \\text{44.2 g of BSA} + \\text{97.7 g of NaCl}= (83.6)\\text{ g in P} + \\text{x g accumlated in the column}$$"
   ]
  },
  {
   "cell_type": "markdown",
   "metadata": {},
   "source": [
    "$$\\text{The accumlated BSA and NaCl (remainder)} = 58.3g$$"
   ]
  },
  {
   "cell_type": "markdown",
   "metadata": {},
   "source": [
    "The ratio of BSA to NaCl in P = 0.78\n",
    "$$\\frac{BSA}{NaCl}=\\frac{0.78 BSA}{1 NaCl}$$\n",
    "\n",
    "This mean for 1 g of NaCl there is 0.78 g of BSA in the product\n",
    "\n",
    "$$\\text{The mass fraction of BSA in P} = \\frac{0.78 g}{1.78 g} = 0.438=43.8\\%$$"
   ]
  },
  {
   "cell_type": "markdown",
   "metadata": {},
   "source": [
    "$$\\text{Mass of BSA in P} = (83.6)(0.438) = 36.6 g$$\n",
    "\n",
    "$$\\text{Mass of NaCl in P}=83.6-36.6 =47 g$$"
   ]
  },
  {
   "cell_type": "markdown",
   "metadata": {},
   "source": [
    "$$\\text{acculated BSA in column} = 44.2 g - 36.6 g = 7.6g$$\n",
    "$$\\text{acculated NacL in column} = 97.7 g - 47 g = 50.7g$$"
   ]
  },
  {
   "cell_type": "markdown",
   "metadata": {},
   "source": [
    "**Example 4.6**: Fish can be turned into fish meal, and the fish meal can be used as animal feed to produce meat or used directly as food for human beings. The direct use of fish meal significantly increases the efficiency of the food chain. However, fish-protein concentrate, primarily for aesthetic reasons, is used mainly as a supplementary protein food. As such, it competes with soy and other oilseed proteins. In the processing of the fish, after the oil is extracted, the fish cake is dried in rotary drum dryers, finely ground, and packed. The resulting product contains 65% protein. In a given batch of fish cake that contains 80% water (the remainder is dry cake denoted by BDC for “bone dry cake”), 100 kg of water are removed, and it is found that the fish cake is then 40% water. Calculate the weight of the fish cake originally put into the dryer. See the diagram of the process below."
   ]
  },
  {
   "cell_type": "markdown",
   "metadata": {},
   "source": [
    "<img src=\"img\\ch4\\4.6.PNG\">"
   ]
  },
  {
   "cell_type": "markdown",
   "metadata": {},
   "source": [
    "**Solution**:\n",
    "\n",
    "Bass: 100 kg of water\n",
    "\n",
    "overall mass balance:\n",
    "$$ x\\text{ kg of WFC} = 100\\text{ kg of W} + y\\text{ kg of DFC}$$"
   ]
  },
  {
   "cell_type": "markdown",
   "metadata": {},
   "source": [
    "Water mass balance:\n",
    "\n",
    "$$ 0.80x = 100 +0.40y$$"
   ]
  },
  {
   "cell_type": "markdown",
   "metadata": {},
   "source": [
    "Two equations and two unknows:"
   ]
  },
  {
   "cell_type": "code",
   "execution_count": 13,
   "metadata": {},
   "outputs": [
    {
     "name": "stdout",
     "output_type": "stream",
     "text": [
      "[[150.]\n",
      " [ 50.]]\n"
     ]
    }
   ],
   "source": [
    "#      x -     y = 100\n",
    "#  0.80x - 0.40y = 100\n",
    "#  Ax = B\n",
    "# x = inv(A).B\n",
    "import numpy as np\n",
    "A=np.array([[1,-1],[0.80,-0.40]])\n",
    "B=np.array([[100],[100]])\n",
    "answer=np.linalg.inv(A).dot(B)\n",
    "print(answer)"
   ]
  },
  {
   "cell_type": "markdown",
   "metadata": {},
   "source": [
    "The wet fish cake input = 150 kg"
   ]
  },
  {
   "cell_type": "markdown",
   "metadata": {},
   "source": [
    "**Example 4.7**: Hemodialysis is the most common method used to treat advanced and permanent kidney failure. When your kidneys fail, harmful wastes build up in your body, your blood pressure may rise, and your body may retain excess fluid and may not make enough red blood cells. In hemodialysis, your blood flows through a device with a special filter that removes urea and preserves the water balance and the serum proteins in the blood. The dialyzer itself (refer to the figure below) is a large canister containing thousands of small fibers through which the blood passes."
   ]
  },
  {
   "cell_type": "markdown",
   "metadata": {},
   "source": [
    "<img src=\"img\\ch4\\4.7a.PNG\">"
   ]
  },
  {
   "cell_type": "markdown",
   "metadata": {},
   "source": [
    "Dialysis solution, the cleansing solution, is pumped around these fibers. The fibers allow wastes\n",
    "and extra fluids to pass from your blood into the solution that carries them away.\n",
    "This example focuses on the plasma components in streams S (solvent) and B (blood): water, uric\n",
    "acid (UR), creatinine (CR), urea (U), P, K, and Na. You can ignore the initial filling of the dialyzer\n",
    "because the treatment lasts for an interval of two or three hours. Given the measurements obtained\n",
    "from one treatment as shown in the figure below, calculate the grams per liter of each component of\n",
    "the plasma in the outlet solution."
   ]
  },
  {
   "cell_type": "markdown",
   "metadata": {},
   "source": [
    "<img src=\"img\\ch4\\4.7b.PNG\">"
   ]
  },
  {
   "cell_type": "markdown",
   "metadata": {},
   "source": [
    "**Solution**:\n",
    "\n",
    "Basis: 1 min\n",
    "\n",
    "assumption: solution density is similar to water density.\n",
    "\n",
    "Overall mass balance:\n",
    "\n",
    "$$ 1100ml\\frac{1g}{mL}+1700mL\\frac{1g}{mL}=1200mL\\frac{1g}{mL}+S_{out}$$\n",
    "\n",
    "$$S_{out}=1600g=1.6L$$"
   ]
  },
  {
   "cell_type": "markdown",
   "metadata": {},
   "source": [
    "Plasma component mass balance:\n",
    "\n",
    "$$S^{out}_{UR}=\\frac{(1.1)(1.16)-(1.2)(0.06)}{(1.6)}=0.75 \\frac{g}{L}$$\n",
    "$$S^{out}_{CR}=\\frac{(1.1)(2.72)-(1.2)(0.12)}{(1.6)}=1.78 \\frac{g}{L}$$\n",
    "$$S^{out}_{U}=\\frac{(1.1)(28)-(1.2)(1.51)}{(1.6)}=11.2 \\frac{g}{L}$$\n",
    "$$S^{out}_{P}=\\frac{(1.1)(0.77)-(1.2)(0.04)}{(1.6)}=0.50 \\frac{g}{L}$$\n",
    "$$S^{out}_{K}=\\frac{(1.1)(5.77)-(1.2)(2.1)}{(1.6)}=3.8 \\frac{g}{L}$$\n",
    "$$S^{out}_{Na}=\\frac{(1.1)(13.0)-(1.2)(5.21)}{(1.6)}=6.53 \\frac{g}{L}$$"
   ]
  },
  {
   "cell_type": "code",
   "execution_count": null,
   "metadata": {},
   "outputs": [],
   "source": []
  }
 ],
 "metadata": {
  "kernelspec": {
   "display_name": "Python 3",
   "language": "python",
   "name": "python3"
  },
  "language_info": {
   "codemirror_mode": {
    "name": "ipython",
    "version": 3
   },
   "file_extension": ".py",
   "mimetype": "text/x-python",
   "name": "python",
   "nbconvert_exporter": "python",
   "pygments_lexer": "ipython3",
   "version": "3.8.3"
  }
 },
 "nbformat": 4,
 "nbformat_minor": 4
}
